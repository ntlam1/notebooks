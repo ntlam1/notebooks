{
 "cells": [
  {
   "cell_type": "code",
   "execution_count": 1,
   "metadata": {},
   "outputs": [],
   "source": [
    "import pandas as pd\n",
    "\n",
    "path = \"melb_data.csv\"\n",
    "melbourne_data = pd.read_csv(path)"
   ]
  },
  {
   "cell_type": "code",
   "execution_count": 2,
   "metadata": {},
   "outputs": [],
   "source": [
    "melbourne_data_shaped = melbourne_data.dropna(axis=0)"
   ]
  },
  {
   "cell_type": "code",
   "execution_count": 3,
   "metadata": {},
   "outputs": [],
   "source": [
    "# Selecting Data for Modeling\n",
    "y = melbourne_data_shaped.Price\n",
    "melbourne_features = ['Rooms', 'Bathroom', 'Landsize', 'BuildingArea', 'YearBuilt', 'Lattitude', 'Longtitude']\n",
    "X = melbourne_data_shaped[melbourne_features]"
   ]
  },
  {
   "cell_type": "code",
   "execution_count": 4,
   "metadata": {},
   "outputs": [
    {
     "name": "stdout",
     "output_type": "stream",
     "text": [
      "434.715945771\n",
      "[ 1035000.  1465000.  1600000.  1876000.  1636000.]\n",
      "[1035000.0, 1465000.0, 1600000.0, 1876000.0, 1636000.0]\n"
     ]
    }
   ],
   "source": [
    "from sklearn.tree import DecisionTreeRegressor\n",
    "from sklearn.metrics import mean_absolute_error\n",
    "melbourne_model = DecisionTreeRegressor(random_state=1)\n",
    "\n",
    "melbourne_model.fit(X, y)\n",
    "predicted_home_prices = melbourne_model.predict(X)\n",
    "print(mean_absolute_error(y, predicted_home_prices))\n",
    "print(predicted_home_prices[:5])\n",
    "print(y.head().tolist())"
   ]
  },
  {
   "cell_type": "code",
   "execution_count": 5,
   "metadata": {},
   "outputs": [
    {
     "name": "stdout",
     "output_type": "stream",
     "text": [
      "[ 1600000.]\n"
     ]
    }
   ],
   "source": [
    "test_data = pd.DataFrame({'Rooms': [4], 'Bathroom': [1], 'Landsize': [120], 'BuildingArea': [142], 'YearBuilt': [2014], 'Lattitude': [-37.8072], 'Longtitude': [144.9941]})\n",
    "test_data = test_data[['Rooms', 'Bathroom', 'Landsize', 'BuildingArea', 'YearBuilt', 'Lattitude', 'Longtitude']]\n",
    "\n",
    "predicted_home_prices_test = melbourne_model.predict(test_data)\n",
    "print(predicted_home_prices_test)"
   ]
  },
  {
   "cell_type": "code",
   "execution_count": 12,
   "metadata": {},
   "outputs": [
    {
     "name": "stdout",
     "output_type": "stream",
     "text": [
      "262442.656553\n",
      "[  937500.   550000.  1015000.  1382500.   910000.]\n",
      "[815000.0, 655000.0, 957500.0, 1330000.0, 722000.0]\n"
     ]
    }
   ],
   "source": [
    "from sklearn.model_selection import train_test_split\n",
    "train_X, val_X, train_y, val_y = train_test_split(X, y, random_state = 0)\n",
    "\n",
    "melbourne_model.fit(train_X, train_y)\n",
    "val_predicted_home_prices = melbourne_model.predict(val_X)\n",
    "print(mean_absolute_error(val_y, val_predicted_home_prices))\n",
    "print(val_predicted_home_prices[:5])\n",
    "print(val_y.head().tolist())"
   ]
  },
  {
   "cell_type": "code",
   "execution_count": 27,
   "metadata": {},
   "outputs": [
    {
     "name": "stdout",
     "output_type": "stream",
     "text": [
      "[ 937500.]\n"
     ]
    }
   ],
   "source": [
    "test_data = pd.DataFrame({'Rooms': [2], 'Bathroom': [1], 'Landsize': [96], 'BuildingArea': [71], 'YearBuilt': [1880], 'Lattitude': [-37.85010], 'Longtitude': [144.99530]})\n",
    "test_data = test_data[['Rooms', 'Bathroom', 'Landsize', 'BuildingArea', 'YearBuilt', 'Lattitude', 'Longtitude']]\n",
    "\n",
    "val_predicted_home_prices_test = melbourne_model.predict(test_data)\n",
    "print(val_predicted_home_prices_test)"
   ]
  },
  {
   "cell_type": "code",
   "execution_count": 29,
   "metadata": {},
   "outputs": [
    {
     "name": "stdout",
     "output_type": "stream",
     "text": [
      "Max leaf nodes: 5  \t\t Mean Absolute Error:  347380\n",
      "Max leaf nodes: 25  \t\t Mean Absolute Error:  270649\n",
      "Max leaf nodes: 50  \t\t Mean Absolute Error:  257829\n",
      "Max leaf nodes: 100  \t\t Mean Absolute Error:  248457\n",
      "Max leaf nodes: 250  \t\t Mean Absolute Error:  246998\n",
      "Max leaf nodes: 500  \t\t Mean Absolute Error:  243176\n",
      "500\n",
      "246474.054599\n",
      "[  980187.5          521973.49230769   980187.5         1163378.94736842\n",
      "  1048000.        ]\n",
      "[815000.0, 655000.0, 957500.0, 1330000.0, 722000.0]\n"
     ]
    }
   ],
   "source": [
    "### Experimenting With Different Models\n",
    "def get_mae(max_leaf_nodes, train_X, val_X, train_y, val_y):\n",
    "    model = DecisionTreeRegressor(max_leaf_nodes=max_leaf_nodes, random_state=0)\n",
    "    model.fit(train_X, train_y)\n",
    "    preds_val = model.predict(val_X)\n",
    "    mae = mean_absolute_error(val_y, preds_val)\n",
    "    return(mae)\n",
    "    \n",
    "#### compare MAE with differing values of max_leaf_nodes\n",
    "candidate_max_leaf_nodes = [5, 25, 50, 100, 250, 500]\n",
    "scores = {max_leaf_nodes: get_mae(max_leaf_nodes, train_X, val_X, train_y, val_y) for max_leaf_nodes in candidate_max_leaf_nodes}\n",
    "best_tree_size = min(scores, key=scores.get)\n",
    "\n",
    "for max_leaf_nodes in candidate_max_leaf_nodes:\n",
    "    my_mae = get_mae(max_leaf_nodes, train_X, val_X, train_y, val_y)\n",
    "    print(\"Max leaf nodes: %d  \\t\\t Mean Absolute Error:  %d\" %(max_leaf_nodes, my_mae))\n",
    "\n",
    "print(best_tree_size)\n",
    "\n",
    "final_model = DecisionTreeRegressor(max_leaf_nodes=best_tree_size, random_state=1)\n",
    "\n",
    "#final_model.fit(X, y)\n",
    "#predicted_home_prices = final_model.predict(X)\n",
    "#print(mean_absolute_error(y, predicted_home_prices))\n",
    "#print(predicted_home_prices[:5])\n",
    "#print(y.head().tolist())\n",
    "\n",
    "final_model.fit(train_X, train_y)\n",
    "val_predicted_home_prices = final_model.predict(val_X)\n",
    "print(mean_absolute_error(val_y, val_predicted_home_prices))\n",
    "print(val_predicted_home_prices[:5])\n",
    "print(val_y.head().tolist())"
   ]
  },
  {
   "cell_type": "code",
   "execution_count": 30,
   "metadata": {},
   "outputs": [
    {
     "name": "stdout",
     "output_type": "stream",
     "text": [
      "[ 980187.5]\n"
     ]
    }
   ],
   "source": [
    "test_data = pd.DataFrame({'Rooms': [2], 'Bathroom': [1], 'Landsize': [96], 'BuildingArea': [71], 'YearBuilt': [1880], 'Lattitude': [-37.85010], 'Longtitude': [144.99530]})\n",
    "test_data = test_data[['Rooms', 'Bathroom', 'Landsize', 'BuildingArea', 'YearBuilt', 'Lattitude', 'Longtitude']]\n",
    "\n",
    "val_predicted_home_prices_test = final_model.predict(test_data)\n",
    "print(val_predicted_home_prices_test)"
   ]
  },
  {
   "cell_type": "code",
   "execution_count": 31,
   "metadata": {},
   "outputs": [
    {
     "name": "stdout",
     "output_type": "stream",
     "text": [
      "202806.612825\n",
      "[  842500.   554500.   951750.  1624650.   685200.]\n",
      "[815000.0, 655000.0, 957500.0, 1330000.0, 722000.0]\n"
     ]
    }
   ],
   "source": [
    "# Random Forests\n",
    "from sklearn.ensemble import RandomForestRegressor\n",
    "forest_model = RandomForestRegressor(random_state=1)\n",
    "\n",
    "forest_model.fit(train_X, train_y)\n",
    "val_predicted_home_prices = forest_model.predict(val_X)\n",
    "print(mean_absolute_error(val_y, val_predicted_home_prices))\n",
    "print(val_predicted_home_prices[:5])\n",
    "print(val_y.head().tolist())"
   ]
  },
  {
   "cell_type": "code",
   "execution_count": 32,
   "metadata": {},
   "outputs": [
    {
     "name": "stdout",
     "output_type": "stream",
     "text": [
      "[ 842500.]\n"
     ]
    }
   ],
   "source": [
    "test_data = pd.DataFrame({'Rooms': [2], 'Bathroom': [1], 'Landsize': [96], 'BuildingArea': [71], 'YearBuilt': [1880], 'Lattitude': [-37.85010], 'Longtitude': [144.99530]})\n",
    "test_data = test_data[['Rooms', 'Bathroom', 'Landsize', 'BuildingArea', 'YearBuilt', 'Lattitude', 'Longtitude']]\n",
    "\n",
    "val_predicted_home_prices_test = forest_model.predict(test_data)\n",
    "print(val_predicted_home_prices_test)"
   ]
  },
  {
   "cell_type": "code",
   "execution_count": null,
   "metadata": {},
   "outputs": [],
   "source": []
  }
 ],
 "metadata": {
  "kernelspec": {
   "display_name": "Python 3",
   "language": "python",
   "name": "python3"
  },
  "language_info": {
   "codemirror_mode": {
    "name": "ipython",
    "version": 3
   },
   "file_extension": ".py",
   "mimetype": "text/x-python",
   "name": "python",
   "nbconvert_exporter": "python",
   "pygments_lexer": "ipython3",
   "version": "3.6.5"
  }
 },
 "nbformat": 4,
 "nbformat_minor": 1
}
